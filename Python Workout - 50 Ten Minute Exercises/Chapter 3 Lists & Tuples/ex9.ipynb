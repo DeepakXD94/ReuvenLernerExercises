{
 "cells": [
  {
   "cell_type": "markdown",
   "metadata": {},
   "source": [
    "# List and Tuples"
   ]
  },
  {
   "cell_type": "markdown",
   "metadata": {},
   "source": [
    "### Exercise 9 ■ First-last"
   ]
  },
  {
   "cell_type": "markdown",
   "metadata": {},
   "source": [
    "Write a function, firstlast, that takes a sequence (string, list, or tuple) and returns the first and last elements of that sequence, in a two-element sequence of the same type. So firstlast('abc') will return the string ac, while firstlast([1,2,3,4]) will return the list [1,4]."
   ]
  },
  {
   "cell_type": "code",
   "execution_count": 1,
   "metadata": {},
   "outputs": [
    {
     "name": "stdout",
     "output_type": "stream",
     "text": [
      "[1, 9]\n",
      "(5, 56)\n"
     ]
    }
   ],
   "source": [
    "def firstLast(sequence):\n",
    "    return sequence[:1] + sequence[-1:]\n",
    "\n",
    "list = [1,5,6,7,2,4,6,9]\n",
    "print(firstLast(list))\n",
    "\n",
    "tup_1 = (5,45,12,86,2,13,56)\n",
    "print(firstLast(tup_1))"
   ]
  },
  {
   "cell_type": "markdown",
   "metadata": {},
   "source": [
    "#### Observation :\n",
    "Always prefer slicing over looping or using indexes to print/obtain a range of elements inside a datastructure. Python is more forgiving on crossing the range when slicing than when other methods are employed."
   ]
  },
  {
   "cell_type": "markdown",
   "metadata": {},
   "source": [
    "#### Important Tips :\n",
    "*   Don’t write one function that squares integers, and another that squares floats. Write one function that handles all numbers.\n",
    "*   Don’t write one function that finds the largest element of a string, another that does the same for a list, and a third that does the same for a tuple. Write just one function that works on all of them.\n",
    "*   Don’t write one function to find the largest word in a file that works on files and another that works on the io.StringIO (http://mng.bz/PAOP) file simulator used in testing. Write one function that works on both.\n"
   ]
  },
  {
   "cell_type": "markdown",
   "metadata": {},
   "source": [
    "### Beyond the Exercise"
   ]
  },
  {
   "cell_type": "markdown",
   "metadata": {},
   "source": [
    "Write a function that takes a list or tuple of numbers. Return a two-element list, containing (respectively) the sum of the even-indexed numbers and the sum of the odd-indexed numbers. So calling the function as even_odd_sums([10, 20, 30, 40, 50, 60]), you’ll get back [90, 120]."
   ]
  },
  {
   "cell_type": "code",
   "execution_count": 12,
   "metadata": {},
   "outputs": [
    {
     "data": {
      "text/plain": [
       "('90', '120')"
      ]
     },
     "execution_count": 12,
     "metadata": {},
     "output_type": "execute_result"
    }
   ],
   "source": [
    "def even_odd_sums(seq):\n",
    "    odd_sum, even_sum = 0, 0\n",
    "    for index, element in enumerate(seq):\n",
    "        if index % 2 == 0:\n",
    "            even_sum += element\n",
    "        else:\n",
    "            odd_sum += element\n",
    "    return str(even_sum), str(odd_sum)\n",
    "tup_2 =[10, 20, 30, 40, 50, 60]\n",
    "even_odd_sums(tup_2)"
   ]
  },
  {
   "cell_type": "markdown",
   "metadata": {},
   "source": [
    "Write a function that takes a list or tuple of numbers. Return the result of alternately adding and subtracting numbers from each other. So calling the function as plus_minus([10, 20, 30, 40, 50, 60]), you’ll get back the result of 10+20-30+40-50+60, or 50."
   ]
  },
  {
   "cell_type": "code",
   "execution_count": 15,
   "metadata": {},
   "outputs": [
    {
     "data": {
      "text/plain": [
       "10"
      ]
     },
     "execution_count": 15,
     "metadata": {},
     "output_type": "execute_result"
    }
   ],
   "source": [
    "def plus_minus(seq):\n",
    "    summ = seq[0]\n",
    "    for index in range(1,len(seq)):\n",
    "        if index % 2 == 0:\n",
    "            summ -= seq[index]\n",
    "        else:\n",
    "            summ += seq[index]\n",
    "    return summ\n",
    "\n",
    "list_1 = [10, 10, 10]\n",
    "plus_minus(list_1)\n"
   ]
  },
  {
   "cell_type": "markdown",
   "metadata": {},
   "source": [
    "Write a function that partly emulates the built-in zip function (http://mng.bz/ Jyzv), taking any number of iterables and returning a list of tuples. Each tuple will contain one element from each of the iterables passed to the function. Thus, if I call myzip([10, 20,30], 'abc'), the result will be [(10, 'a'), (20, 'b'), (30, 'c')]. You can return a list (not an iterator) and can assume that all of the iterables are of the same length."
   ]
  },
  {
   "cell_type": "code",
   "execution_count": 16,
   "metadata": {},
   "outputs": [
    {
     "ename": "TypeError",
     "evalue": "'builtin_function_or_method' object is not subscriptable",
     "output_type": "error",
     "traceback": [
      "\u001b[1;31m---------------------------------------------------------------------------\u001b[0m",
      "\u001b[1;31mTypeError\u001b[0m                                 Traceback (most recent call last)",
      "Cell \u001b[1;32mIn [16], line 9\u001b[0m\n\u001b[0;32m      5\u001b[0m             new_tupList\u001b[38;5;241m.\u001b[39mappend[index]((jit))\n\u001b[0;32m      6\u001b[0m     \u001b[38;5;28;01mreturn\u001b[39;00m new_tupList\n\u001b[1;32m----> 9\u001b[0m \u001b[43mmyzip\u001b[49m\u001b[43m(\u001b[49m\u001b[43m[\u001b[49m\u001b[38;5;241;43m10\u001b[39;49m\u001b[43m,\u001b[49m\u001b[43m \u001b[49m\u001b[38;5;241;43m20\u001b[39;49m\u001b[43m,\u001b[49m\u001b[38;5;241;43m30\u001b[39;49m\u001b[43m]\u001b[49m\u001b[43m,\u001b[49m\u001b[43m \u001b[49m\u001b[38;5;124;43m'\u001b[39;49m\u001b[38;5;124;43mabc\u001b[39;49m\u001b[38;5;124;43m'\u001b[39;49m\u001b[43m)\u001b[49m\n",
      "Cell \u001b[1;32mIn [16], line 5\u001b[0m, in \u001b[0;36mmyzip\u001b[1;34m(*args)\u001b[0m\n\u001b[0;32m      3\u001b[0m \u001b[38;5;28;01mfor\u001b[39;00m index \u001b[38;5;129;01min\u001b[39;00m args:\n\u001b[0;32m      4\u001b[0m     \u001b[38;5;28;01mfor\u001b[39;00m jit \u001b[38;5;129;01min\u001b[39;00m index:\n\u001b[1;32m----> 5\u001b[0m         \u001b[43mnew_tupList\u001b[49m\u001b[38;5;241;43m.\u001b[39;49m\u001b[43mappend\u001b[49m\u001b[43m[\u001b[49m\u001b[43mindex\u001b[49m\u001b[43m]\u001b[49m((jit))\n\u001b[0;32m      6\u001b[0m \u001b[38;5;28;01mreturn\u001b[39;00m new_tupList\n",
      "\u001b[1;31mTypeError\u001b[0m: 'builtin_function_or_method' object is not subscriptable"
     ]
    }
   ],
   "source": [
    "def myzip(*args):\n",
    "    new_tupList = []\n",
    "    for index in args:\n",
    "        for jit in index:\n",
    "            new_tupList[index].append((jit))\n",
    "    return new_tupList\n",
    "\n",
    "\n",
    "myzip([10, 20,30], 'abc')    "
   ]
  }
 ],
 "metadata": {
  "kernelspec": {
   "display_name": "Python 3.10.4 ('DataShark')",
   "language": "python",
   "name": "python3"
  },
  "language_info": {
   "codemirror_mode": {
    "name": "ipython",
    "version": 3
   },
   "file_extension": ".py",
   "mimetype": "text/x-python",
   "name": "python",
   "nbconvert_exporter": "python",
   "pygments_lexer": "ipython3",
   "version": "3.10.4"
  },
  "orig_nbformat": 4,
  "vscode": {
   "interpreter": {
    "hash": "46c34d3ef96f629ecb9b1e094e467cd77d328583a5bb05ab4bdcc80901c8648b"
   }
  }
 },
 "nbformat": 4,
 "nbformat_minor": 2
}
