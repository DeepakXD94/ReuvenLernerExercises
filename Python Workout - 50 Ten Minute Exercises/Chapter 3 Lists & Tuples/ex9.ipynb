{
 "cells": [
  {
   "cell_type": "markdown",
   "metadata": {},
   "source": [
    "# List and Tuples"
   ]
  },
  {
   "cell_type": "markdown",
   "metadata": {},
   "source": [
    "### Exercise 9 ■ First-last"
   ]
  },
  {
   "cell_type": "markdown",
   "metadata": {},
   "source": [
    "Write a function, firstlast, that takes a sequence (string, list, or tuple) and returns the first and last elements of that sequence, in a two-element sequence of the same type. So firstlast('abc') will return the string ac, while firstlast([1,2,3,4]) will return the list [1,4]."
   ]
  },
  {
   "cell_type": "code",
   "execution_count": 5,
   "metadata": {},
   "outputs": [
    {
     "name": "stdout",
     "output_type": "stream",
     "text": [
      "[1, 9]\n",
      "(5, 56)\n"
     ]
    }
   ],
   "source": [
    "def firstLast(sequence):\n",
    "    return sequence[:1] + sequence[-1:]\n",
    "\n",
    "list = [1,5,6,7,2,4,6,9]\n",
    "print(firstLast(list))\n",
    "\n",
    "tup_1 = (5,45,12,86,2,13,56)\n",
    "print(firstLast(tup_1))"
   ]
  },
  {
   "cell_type": "markdown",
   "metadata": {},
   "source": [
    "#### Observation :\n",
    "Always prefer slicing over looping or using indexes to print/obtain a range of elements inside a datastructure. Python is more forgiving on crossing the range when slicing than when other methods are employed."
   ]
  }
 ],
 "metadata": {
  "kernelspec": {
   "display_name": "Python 3.10.6 ('DataMan')",
   "language": "python",
   "name": "python3"
  },
  "language_info": {
   "codemirror_mode": {
    "name": "ipython",
    "version": 3
   },
   "file_extension": ".py",
   "mimetype": "text/x-python",
   "name": "python",
   "nbconvert_exporter": "python",
   "pygments_lexer": "ipython3",
   "version": "3.10.6"
  },
  "orig_nbformat": 4,
  "vscode": {
   "interpreter": {
    "hash": "4e718750a65d91c6c8be8145eb80e985ccdf89892ccf0c70103aaef0447160f1"
   }
  }
 },
 "nbformat": 4,
 "nbformat_minor": 2
}
