{
 "cells": [
  {
   "cell_type": "markdown",
   "metadata": {},
   "source": [
    "# Strings"
   ]
  },
  {
   "cell_type": "markdown",
   "metadata": {},
   "source": [
    "## Exercise 5 : Pig Latin"
   ]
  },
  {
   "cell_type": "markdown",
   "metadata": {},
   "source": [
    "The rules for translating words from English into Pig Latin are quite simple:\n",
    "\n",
    "1.  If the word begins with a vowel (a, e, i, o, or u), add “way” to the end of the word. So “air” becomes “airway” and “eat” becomes “eatway.”\n",
    "\n",
    "2.  If the word begins with any other letter, then we take the first letter, put it on the end of the word, and then add “ay.” Thus, “python” becomes “ythonpay” and “computer” becomes “omputercay.”\n",
    "\n",
    "Write a Python function (pig_latin) that takes a string as input, assumed to be an English word. The function should return the translation of this word into Pig Latin. You may assume that the word contains no capital letters or punctuation."
   ]
  },
  {
   "cell_type": "code",
   "execution_count": null,
   "metadata": {},
   "outputs": [],
   "source": [
    "def pig_latin():\n",
    "    word = input(\"Enter the word :\")\n",
    "    vowels = ['a', 'e', 'i', 'o', 'u'] # Instead of a list of vowels, string 'aeiou' can also be used.\n",
    "    if word[0] in vowels:\n",
    "        word += 'way'\n",
    "    else:\n",
    "        word = word[1:] + word[0] + 'ay'\n",
    "    return word\n",
    "\n",
    "pig_latin()"
   ]
  },
  {
   "cell_type": "markdown",
   "metadata": {},
   "source": [
    "### Beyond the exercise"
   ]
  },
  {
   "cell_type": "markdown",
   "metadata": {},
   "source": [
    "####  Program BTE - 1\n",
    "1.  Handle capitalized words --If a word is capitalized (i.e., the first letter is capitalized, but the rest of the word isn’t), then the Pig Latin translation should be similarly capitalized."
   ]
  },
  {
   "cell_type": "code",
   "execution_count": null,
   "metadata": {},
   "outputs": [],
   "source": [
    "def pig_latin():\n",
    "    word = input(\"Enter the word :\")\n",
    "    vowels = ['a', 'e', 'i', 'o', 'u'] # Instead of a list of vowels, string 'aeiou' can also be used.\n",
    "    if word[0] in vowels:\n",
    "        word = word + 'way'\n",
    "    else:\n",
    "        word = word[1:] + word[0] + 'ay'\n",
    "    return capit(word)\n",
    "\n",
    "def capit(x): # Capital Function which reverses the tye of letter in the word.\n",
    "    if x[0].islower:\n",
    "        x = x[0].upper() + x[1:].lower()\n",
    "    else:\n",
    "        x = x[0].lower() + x[1:].upper()\n",
    "    return x\n",
    "    \n",
    "pig_latin()"
   ]
  },
  {
   "cell_type": "markdown",
   "metadata": {},
   "source": [
    "2.  Handle punctuation --If a word ends with punctuation, then that punctuation should be shifted to the end of the translated word."
   ]
  },
  {
   "cell_type": "code",
   "execution_count": null,
   "metadata": {},
   "outputs": [],
   "source": [
    "def pig_latin():\n",
    "    word = input(\"Enter the word :\")\n",
    "    vowels = ['a', 'e', 'i', 'o', 'u'] # Instead of a list of vowels, string 'aeiou' can also be used.\n",
    "    if word[0] in vowels:\n",
    "        word = word + 'way'\n",
    "    else:\n",
    "        word = word[1:] + word[0] + 'ay'\n",
    "    return capit(word)\n",
    "\n",
    "def capit(x): # Capital Function which reverses the tye of letter in the word.\n",
    "    if x[0].islower:\n",
    "        x = x[0].upper() + x[1:].lower()\n",
    "    else:\n",
    "        x = x[0].lower() + x[1:].upper()\n",
    "    return x\n",
    "\n",
    "'''\n",
    "def punct(y):\n",
    "    if y[-1] in \"!,.\\\"'?/\\-_\":\n",
    "        y[0] = y[-1]\n",
    "    return y\n",
    "'''\n",
    "\n",
    "pig_latin()"
   ]
  },
  {
   "cell_type": "markdown",
   "metadata": {},
   "source": [
    "3.  Consider an alternative version of Pig Latin --We don’t check to see if the first letter is a vowel, but, rather, we check to see if the word contains two different vowels. If it does, we don’t move the first letter to the end. Because the word “wine” contains two different vowels (“i” and “e”), we’ll add “way” to the end of it, giving us “wineway.” By contrast, the word “wind” contains only one vowel, so we would move the first letter to the end and add “ay,” rendering it “indway.” How would you check for two different vowels in the word? (Hint: sets can come in handy here.)"
   ]
  },
  {
   "cell_type": "markdown",
   "metadata": {},
   "source": [
    "## Exercise 6 ■ Pig Latin sentence\n",
    "*   Write a function called pl_sentence that takes a string containing several words, separated by spaces. (To make things easier, we won’t actually ask for a real sentence. More specifically, there will be no capital letters or punctuation.)"
   ]
  },
  {
   "cell_type": "code",
   "execution_count": null,
   "metadata": {},
   "outputs": [],
   "source": [
    "def pl_sentence():\n",
    "    str = input(\"Enter the string :\")\n",
    "    str_list = str.split() # Not mentioning whitespace specifically means that the program will also treat newlines, tbs etc.as splitters.\n",
    "    for word in str_list:\n",
    "        print(pig_latin(word), end = \" \")\n",
    "\n",
    "def pig_latin(text):\n",
    "    if text[0] in 'aeiou':\n",
    "        text +='way'\n",
    "    else:\n",
    "        text = text[1:] + text[0] + 'ay'\n",
    "    return text      \n",
    "\n",
    "pl_sentence()"
   ]
  },
  {
   "cell_type": "markdown",
   "metadata": {},
   "source": [
    "### Reuven Lerner's Solution"
   ]
  },
  {
   "cell_type": "code",
   "execution_count": null,
   "metadata": {},
   "outputs": [],
   "source": [
    "def pl_sentence(string):\n",
    "    output = []\n",
    "    for word in string.split():\n",
    "        if word[0] in 'aeiou':\n",
    "            output.append(f'{word}way')\n",
    "        else:\n",
    "            output.append(f'{word[1:]}{word[0]}ay')\n",
    " \n",
    "    return ' '.join(output)\n",
    " \n",
    "print(pl_sentence('this is a test'))"
   ]
  },
  {
   "cell_type": "markdown",
   "metadata": {},
   "source": [
    "## Exercise 7 ■ Ubbi Dubbi\n",
    "1.  You’ll implement a translator from English into another secret children’s language, Ubbi Dubbi.\n",
    "2.  In Ubbi Dubbi, every vowel (a, e, i, o, or u) is prefaced with ub. Thus milk becomes mubilk (m-ub-ilk) and program becomes prubogrubam (prub-ogrub-am). In theory, you only put an ub before every vowel sound, rather than before each vowel.\n",
    "3.  Assumptions : Ignore capital letters, punctuation and corner cases."
   ]
  },
  {
   "cell_type": "code",
   "execution_count": null,
   "metadata": {},
   "outputs": [],
   "source": [
    "def ubbi_dubbi():\n",
    "    word = input(\"Enter the word\") # Single word input.\n",
    "    new_word = '' # To avoid allocating too much memory, list could be used in place of string.\n",
    "    for char in word:\n",
    "        if char in 'aeiou':\n",
    "            new_word += 'ub' + char\n",
    "        else:\n",
    "            new_word += char\n",
    "    print(new_word)\n",
    "\n",
    "ubbi_dubbi()"
   ]
  },
  {
   "cell_type": "markdown",
   "metadata": {},
   "source": [
    "#### Method with list in place of string\n",
    "List prefered over string when the input is too big."
   ]
  },
  {
   "cell_type": "code",
   "execution_count": null,
   "metadata": {},
   "outputs": [],
   "source": [
    "def ubbi_dubbi():\n",
    "    word = input(\"Enter the word\") # Single word input.\n",
    "    new_word = []\n",
    "    for char in word:\n",
    "        if char in 'aeiou':\n",
    "            new_word.append(f\"ub{char}\")\n",
    "        else:\n",
    "            new_word.append(char)\n",
    "        \n",
    "    new_word = \"\".join(new_word)\n",
    "    print(new_word)\n",
    "\n",
    "ubbi_dubbi()"
   ]
  },
  {
   "cell_type": "markdown",
   "metadata": {},
   "source": [
    "#### Beyond the exercise"
   ]
  },
  {
   "cell_type": "code",
   "execution_count": null,
   "metadata": {},
   "outputs": [],
   "source": [
    "# Python has a few way"
   ]
  },
  {
   "cell_type": "code",
   "execution_count": null,
   "metadata": {},
   "outputs": [],
   "source": []
  },
  {
   "cell_type": "markdown",
   "metadata": {},
   "source": [
    "### Exercise 8 ■ Sorting a string"
   ]
  },
  {
   "cell_type": "code",
   "execution_count": null,
   "metadata": {},
   "outputs": [],
   "source": [
    "def strsort():\n",
    "    str = input(\"Enter the string :\")\n",
    "    return \"\".join(sorted(str)) # sorteed returns a list of sorted characters, use join to join them as a string.\n",
    "\n",
    "strsort()"
   ]
  },
  {
   "cell_type": "code",
   "execution_count": null,
   "metadata": {},
   "outputs": [],
   "source": [
    "str = 'aegfeegfsfvssgt'\n",
    "print(sorted(str))"
   ]
  }
 ],
 "metadata": {
  "kernelspec": {
   "display_name": "Python 3.10.5 ('Dataman')",
   "language": "python",
   "name": "python3"
  },
  "language_info": {
   "codemirror_mode": {
    "name": "ipython",
    "version": 3
   },
   "file_extension": ".py",
   "mimetype": "text/x-python",
   "name": "python",
   "nbconvert_exporter": "python",
   "pygments_lexer": "ipython3",
   "version": "3.10.5"
  },
  "orig_nbformat": 4,
  "vscode": {
   "interpreter": {
    "hash": "a36b3aecfc158218fe26b008aba2cb48cb8b062d8288cb2843b395773d964365"
   }
  }
 },
 "nbformat": 4,
 "nbformat_minor": 2
}
