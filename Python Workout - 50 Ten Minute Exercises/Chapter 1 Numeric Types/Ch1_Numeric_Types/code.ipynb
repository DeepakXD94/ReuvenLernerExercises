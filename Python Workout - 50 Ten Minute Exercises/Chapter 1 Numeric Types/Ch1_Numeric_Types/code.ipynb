{
 "cells": [
  {
   "cell_type": "markdown",
   "metadata": {},
   "source": [
    "# Numeric Types"
   ]
  },
  {
   "cell_type": "markdown",
   "metadata": {},
   "source": [
    "## Exercise 1 : Number guessing game\n",
    "For this exercise\n",
    "\n",
    "Write a function (guessing_game) that takes no arguments.\n",
    "\n",
    "When run, the function chooses a random integer between 0 and 100 (inclusive).\n",
    "\n",
    "Then ask the user to guess what number has been chosen.\n",
    "\n",
    "Each time the user enters a guess, the program indicates one of the following:\n",
    "\n",
    "1.  Too high\n",
    "\n",
    "2.  Too low\n",
    "\n",
    "3.  Just right\n",
    "\n",
    "If the user guesses correctly, the program exits. Otherwise, the user is asked to try again.\n",
    "\n",
    "The program only exits after the user guesses correctly.\n"
   ]
  },
  {
   "cell_type": "code",
   "execution_count": 2,
   "metadata": {},
   "outputs": [
    {
     "name": "stdout",
     "output_type": "stream",
     "text": [
      "Hello, {name}.\n"
     ]
    }
   ],
   "source": [
    "import random\n",
    "number = random.randint(10,30)\n",
    "name = input(\"Enter your name :\")\n",
    "print(f\"Hello, {name}.\")\n"
   ]
  }
 ],
 "metadata": {
  "kernelspec": {
   "display_name": "Python 3.10.5 ('Dataman')",
   "language": "python",
   "name": "python3"
  },
  "language_info": {
   "codemirror_mode": {
    "name": "ipython",
    "version": 3
   },
   "file_extension": ".py",
   "mimetype": "text/x-python",
   "name": "python",
   "nbconvert_exporter": "python",
   "pygments_lexer": "ipython3",
   "version": "3.10.5"
  },
  "orig_nbformat": 4,
  "vscode": {
   "interpreter": {
    "hash": "a36b3aecfc158218fe26b008aba2cb48cb8b062d8288cb2843b395773d964365"
   }
  }
 },
 "nbformat": 4,
 "nbformat_minor": 2
}
