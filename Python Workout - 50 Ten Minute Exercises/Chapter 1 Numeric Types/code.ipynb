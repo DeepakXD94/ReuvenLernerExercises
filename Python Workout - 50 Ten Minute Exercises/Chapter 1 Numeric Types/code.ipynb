{
 "cells": [
  {
   "cell_type": "markdown",
   "metadata": {},
   "source": [
    "# Exercise 1 ■ Number guessing game\n",
    "\n",
    "For this exercise:\n",
    "\n",
    "1.  Write a function (guessing_game) that takes no arguments.\n",
    "2.  When run, the function chooses a random integer between 0 and 100 (inclusive).\n",
    "3.  Then ask the user to guess what number has been chosen.\n",
    "4.  Each time the user enters a guess, the program indicates one of the following:\n",
    "        1.Too high\n",
    "        2.Too low\n",
    "        3.Just right\n",
    "\n",
    "5.  If the user guesses correctly, the program exits. Otherwise, the user is asked to try again.\n",
    "6.  The program only exits after the user guesses correctly.\n",
    "\n",
    "Assumption : An assumption is made that the user only feeds correct type of input."
   ]
  },
  {
   "cell_type": "markdown",
   "metadata": {},
   "source": [
    "##### My Method"
   ]
  },
  {
   "cell_type": "code",
   "execution_count": null,
   "metadata": {},
   "outputs": [],
   "source": [
    "import random\n",
    "\n",
    "answer = random.randint(10,30) # limiting the guess range between 10 and 30.\n",
    "name = input(\"Name of the contestant : \")\n",
    "print(f\"Hello, {name},\")\n",
    "print(\"Welcome to the game of \\\"Guess the number \\\".\")\n",
    "\n",
    "while True:\n",
    "    guess_num = int(input(\"Enter your guess.\"))\n",
    "    if guess_num == answer:\n",
    "        print(\"Congrats ! Your guess of\",answer,\"is correct.\")\n",
    "        break\n",
    "    elif guess_num < answer:\n",
    "        print(\"Your guess, (\",guess_num,\") is too low.\")\n",
    "    else:\n",
    "        print(\"Your guess(\",guess_num,\") is too high.\")"
   ]
  },
  {
   "cell_type": "markdown",
   "metadata": {},
   "source": [
    "### Program using function"
   ]
  },
  {
   "cell_type": "code",
   "execution_count": null,
   "metadata": {},
   "outputs": [],
   "source": [
    "import random\n",
    "\n",
    "def guess_game():\n",
    "    answer = random.randint(10,30)\n",
    "    name = input(\"Enter the name of the contestant :\")\n",
    "    print(f\"Hello {name}, Welcome to guessing game.\")\n",
    "    \n",
    "    while True:\n",
    "        guess_num = int(input(\"Enter your guess.\"))\n",
    "        if guess_num == answer:\n",
    "            print(\"Congrats ! Your guess of\",answer,\"is correct.\")\n",
    "            break\n",
    "        elif guess_num < answer:\n",
    "            print(\"Your guess, (\",guess_num,\") is too low.\")\n",
    "        else:\n",
    "            print(\"Your guess(\",guess_num,\") is too high.\")\n",
    "\n",
    "guess_game()"
   ]
  },
  {
   "cell_type": "markdown",
   "metadata": {},
   "source": [
    "### Beyond the Exercise."
   ]
  },
  {
   "cell_type": "markdown",
   "metadata": {},
   "source": [
    "Modify this program, such that it gives the user only three chances to guess the correct number. If they try three times without success, the program tells them that they didn’t guess in time and then exits."
   ]
  },
  {
   "cell_type": "code",
   "execution_count": null,
   "metadata": {},
   "outputs": [],
   "source": [
    "import random\n",
    "\n",
    "def guess_game():\n",
    "    answer = random.randint(10,30)\n",
    "    name = input(\"Enter the name of the contestant :\")\n",
    "    print(f\"Hello {name}, Welcome to guessing game.\")\n",
    "    guess_count = 0\n",
    "    \n",
    "    while guess_count < 3:\n",
    "        guess_num = int(input(\"Enter your guess.\"))\n",
    "        guess_count += 1\n",
    "        if guess_num == answer:\n",
    "            print(\"Congrats ! Your guess of\",answer,\"is correct.\")\n",
    "            break\n",
    "        elif guess_num < answer:\n",
    "            print(\"Your guess, (\",guess_num,\") is too low.\")\n",
    "        else:\n",
    "            print(\"Your guess(\",guess_num,\") is too high.\")\n",
    "\n",
    "    if guess_count < 3:\n",
    "        pass\n",
    "    else:\n",
    "        print(\"You ran out of guesses. Better luck next time.\")\n",
    "\n",
    "guess_game()"
   ]
  },
  {
   "cell_type": "markdown",
   "metadata": {},
   "source": [
    "Not only should you choose a random number, but you should also choose a random number base, from 2 to 16, in which the user should submit their input. If the user inputs “10” as their guess, you’ll need to interpret it in the correct number base; “10” might mean 10 (decimal), or 2 (binary), or 16 (hexadecimal)."
   ]
  },
  {
   "cell_type": "code",
   "execution_count": null,
   "metadata": {},
   "outputs": [],
   "source": []
  },
  {
   "cell_type": "markdown",
   "metadata": {},
   "source": [
    "## Exercise 2 : Summing Numbers"
   ]
  },
  {
   "cell_type": "markdown",
   "metadata": {},
   "source": [
    "1.  The challenge here is to write a mysum function that does the same thing as the built-in sum function. However, instead of taking a single sequence as a parameter, it should take a variable number of arguments.\n",
    "2.  You shouldn’t use the built-in sum function to accomplish this!"
   ]
  },
  {
   "cell_type": "code",
   "execution_count": null,
   "metadata": {},
   "outputs": [],
   "source": [
    "def mySum(*args): # Splat Operator to facilitate input of arbitrary arguments.\n",
    "    sum = 0\n",
    "    for number in args:\n",
    "        sum += number\n",
    "    return sum\n",
    "\n",
    "mySum(4,2,1,9,8,5) # Result would be 29."
   ]
  },
  {
   "cell_type": "markdown",
   "metadata": {},
   "source": [
    "### Beyond the Exercise\n",
    "*   The built-in version of sum takes an optional second argument, which is used as the starting point for the summing. (That’s why it takes a list of numbers as its first argument, unlike our mysum implementation.) So sum([1,2,3], 4) returns 10, because 1+2+3 is 6, which would be added to the starting value of 4. Reimplement your mysum function such that it works in this way. If a second argument is not provided, then it should default to 0. Note that while you can write a function in Python 3 that defines a parameter after *args, I’d suggest avoiding it and just taking two arguments--a list and an optional starting point."
   ]
  },
  {
   "cell_type": "code",
   "execution_count": null,
   "metadata": {},
   "outputs": [],
   "source": [
    "def mySum(*args, num = 15): # Starting point for summing, num = 15\n",
    "    sum = 0 \n",
    "    for number in args:\n",
    "        sum += number\n",
    "    return (num + number)\n",
    "\n",
    "mySum(4,2,1,9,8,5) # Result would be 29."
   ]
  },
  {
   "cell_type": "markdown",
   "metadata": {},
   "source": [
    "*   Write a function that takes a list of numbers. It should return the average (i.e., arithmetic mean) of those numbers."
   ]
  },
  {
   "cell_type": "code",
   "execution_count": null,
   "metadata": {},
   "outputs": [],
   "source": [
    "def mySum(*args): \n",
    "    sum = 0 \n",
    "    for number in args:\n",
    "        sum += number\n",
    "    print(\"Sum of the arguments : \" + str(sum))\n",
    "    print(\"Average of the arguments = \", (sum/len(args)))\n",
    "\n",
    "mySum(1,2,3,4,5,6,7,8,9,10)"
   ]
  },
  {
   "cell_type": "markdown",
   "metadata": {},
   "source": [
    "*   Write a function that takes a list of words (strings). It should return a tuple containing three integers, representing \n",
    "1.  the length of the shortest word, \n",
    "2.  the length of the longest word, and \n",
    "3.  the average word length."
   ]
  },
  {
   "cell_type": "code",
   "execution_count": null,
   "metadata": {},
   "outputs": [],
   "source": [
    "def mySum(*args): \n",
    "    len_list = [] \n",
    "    for char in args:\n",
    "        len_list.append(len(char))\n",
    "    print(\"The length of the shortest word is \", min(len_list))\n",
    "    print(\"The length of the longest word is \",max(len_list))\n",
    "    print(\"Average word length is \", (sum(len_list)/len(len_list)))    \n",
    "    \n",
    "\n",
    "mySum('Glock', 'AK47', 'Nagant', 'AR15', 'Uzi')"
   ]
  },
  {
   "cell_type": "markdown",
   "metadata": {},
   "source": [
    "# Exercise 3 ■ Run timing\n",
    "Write a function (run_timing) that asks how long it took for you to run 10 km. The function continues to ask how long (in minutes) it took for additional runs, until the user presses Enter. At that point, the function exits--but only after calculating and displaying the average time that the 10 km runs took."
   ]
  },
  {
   "cell_type": "code",
   "execution_count": null,
   "metadata": {},
   "outputs": [],
   "source": [
    "def run_time():\n",
    "    "
   ]
  }
 ],
 "metadata": {
  "kernelspec": {
   "display_name": "Python 3.10.5 ('Dataman')",
   "language": "python",
   "name": "python3"
  },
  "language_info": {
   "codemirror_mode": {
    "name": "ipython",
    "version": 3
   },
   "file_extension": ".py",
   "mimetype": "text/x-python",
   "name": "python",
   "nbconvert_exporter": "python",
   "pygments_lexer": "ipython3",
   "version": "3.10.5"
  },
  "orig_nbformat": 4,
  "vscode": {
   "interpreter": {
    "hash": "a36b3aecfc158218fe26b008aba2cb48cb8b062d8288cb2843b395773d964365"
   }
  }
 },
 "nbformat": 4,
 "nbformat_minor": 2
}
