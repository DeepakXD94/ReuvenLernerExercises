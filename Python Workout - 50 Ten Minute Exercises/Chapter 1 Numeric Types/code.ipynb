{
 "cells": [
  {
   "cell_type": "markdown",
   "metadata": {},
   "source": [
    "# Exercise 1 ■ Number guessing game\n",
    "\n",
    "For this exercise:\n",
    "\n",
    "1.  Write a function (guessing_game) that takes no arguments.\n",
    "2.  When run, the function chooses a random integer between 0 and 100 (inclusive).\n",
    "3.  Then ask the user to guess what number has been chosen.\n",
    "4.  Each time the user enters a guess, the program indicates one of the following:\n",
    "        1.Too high\n",
    "        2.Too low\n",
    "        3.Just right\n",
    "\n",
    "5.  If the user guesses correctly, the program exits. Otherwise, the user is asked to try again.\n",
    "6.  The program only exits after the user guesses correctly.\n",
    "\n",
    "Assumption : An assumption is made that the user only feeds correct type of input."
   ]
  },
  {
   "cell_type": "markdown",
   "metadata": {},
   "source": [
    "##### My Method"
   ]
  },
  {
   "cell_type": "code",
   "execution_count": null,
   "metadata": {},
   "outputs": [],
   "source": [
    "import random\n",
    "\n",
    "answer = random.randint(10,30) # limiting the guess range between 10 and 30.\n",
    "name = input(\"Name of the contestant : \")\n",
    "print(f\"Hello, {name},\")\n",
    "print(\"Welcome to the game of \\\"Guess the number \\\".\")\n",
    "\n",
    "while True:\n",
    "    guess_num = int(input(\"Enter your guess.\"))\n",
    "    if guess_num == answer:\n",
    "        print(\"Congrats ! Your guess of\",answer,\"is correct.\")\n",
    "        break\n",
    "    elif guess_num < answer:\n",
    "        print(\"Your guess, (\",guess_num,\") is too low.\")\n",
    "    else:\n",
    "        print(\"Your guess(\",guess_num,\") is too high.\")"
   ]
  },
  {
   "cell_type": "markdown",
   "metadata": {},
   "source": [
    "### Program using function"
   ]
  },
  {
   "cell_type": "code",
   "execution_count": null,
   "metadata": {},
   "outputs": [],
   "source": [
    "import random\n",
    "\n",
    "def guess_game():\n",
    "    answer = random.randint(10,30)\n",
    "    name = input(\"Enter the name of the contestant :\")\n",
    "    print(f\"Hello {name}, Welcome to guessing game.\")\n",
    "    \n",
    "    while True:\n",
    "        guess_num = int(input(\"Enter your guess.\"))\n",
    "        if guess_num == answer:\n",
    "            print(\"Congrats ! Your guess of\",answer,\"is correct.\")\n",
    "            break\n",
    "        elif guess_num < answer:\n",
    "            print(\"Your guess, (\",guess_num,\") is too low.\")\n",
    "        else:\n",
    "            print(\"Your guess(\",guess_num,\") is too high.\")\n",
    "\n",
    "guess_game()"
   ]
  },
  {
   "cell_type": "markdown",
   "metadata": {},
   "source": [
    "### Beyond the Exercise."
   ]
  },
  {
   "cell_type": "markdown",
   "metadata": {},
   "source": [
    "Modify this program, such that it gives the user only three chances to guess the correct number. If they try three times without success, the program tells them that they didn’t guess in time and then exits."
   ]
  },
  {
   "cell_type": "code",
   "execution_count": null,
   "metadata": {},
   "outputs": [],
   "source": [
    "import random\n",
    "\n",
    "def guess_game():\n",
    "    answer = random.randint(10,30)\n",
    "    name = input(\"Enter the name of the contestant :\")\n",
    "    print(f\"Hello {name}, Welcome to guessing game.\")\n",
    "    guess_count = 0\n",
    "    \n",
    "    while guess_count < 3:\n",
    "        guess_num = int(input(\"Enter your guess.\"))\n",
    "        guess_count += 1\n",
    "        if guess_num == answer:\n",
    "            print(\"Congrats ! Your guess of\",answer,\"is correct.\")\n",
    "            break\n",
    "        elif guess_num < answer:\n",
    "            print(\"Your guess, (\",guess_num,\") is too low.\")\n",
    "        else:\n",
    "            print(\"Your guess(\",guess_num,\") is too high.\")\n",
    "\n",
    "    if guess_count < 3:\n",
    "        pass\n",
    "    else:\n",
    "        print(\"You ran out of guesses. Better luck next time.\")\n",
    "\n",
    "guess_game()"
   ]
  },
  {
   "cell_type": "markdown",
   "metadata": {},
   "source": [
    "Not only should you choose a random number, but you should also choose a random number base, from 2 to 16, in which the user should submit their input. If the user inputs “10” as their guess, you’ll need to interpret it in the correct number base; “10” might mean 10 (decimal), or 2 (binary), or 16 (hexadecimal)."
   ]
  },
  {
   "cell_type": "code",
   "execution_count": null,
   "metadata": {},
   "outputs": [],
   "source": []
  },
  {
   "cell_type": "markdown",
   "metadata": {},
   "source": [
    "## Exercise 2 : Summing Numbers"
   ]
  },
  {
   "cell_type": "markdown",
   "metadata": {},
   "source": [
    "1.  The challenge here is to write a mysum function that does the same thing as the built-in sum function. However, instead of taking a single sequence as a parameter, it should take a variable number of arguments.\n",
    "2.  You shouldn’t use the built-in sum function to accomplish this!"
   ]
  },
  {
   "cell_type": "code",
   "execution_count": 1,
   "metadata": {},
   "outputs": [
    {
     "data": {
      "text/plain": [
       "29"
      ]
     },
     "execution_count": 1,
     "metadata": {},
     "output_type": "execute_result"
    }
   ],
   "source": [
    "def mySum(*args):\n",
    "    sum = 0\n",
    "    for number in args:\n",
    "        sum += number\n",
    "    return sum\n",
    "\n",
    "mySum(4,2,1,9,8,5) # Result would be 29."
   ]
  },
  {
   "cell_type": "code",
   "execution_count": 3,
   "metadata": {},
   "outputs": [
    {
     "name": "stdout",
     "output_type": "stream",
     "text": [
      "<function MySum.<locals>.<lambda> at 0x0000023E74442DD0>\n"
     ]
    }
   ],
   "source": [
    "def MySum(*args):\n",
    "    sum = 0\n",
    "    for num in args:\n",
    "        return lambda sum : sum + num\n",
    "\n",
    "print(MySum(5,4,6,7,8,9,12,45))"
   ]
  }
 ],
 "metadata": {
  "kernelspec": {
   "display_name": "Python 3.10.5 ('Dataman')",
   "language": "python",
   "name": "python3"
  },
  "language_info": {
   "codemirror_mode": {
    "name": "ipython",
    "version": 3
   },
   "file_extension": ".py",
   "mimetype": "text/x-python",
   "name": "python",
   "nbconvert_exporter": "python",
   "pygments_lexer": "ipython3",
   "version": "3.10.5"
  },
  "orig_nbformat": 4,
  "vscode": {
   "interpreter": {
    "hash": "a36b3aecfc158218fe26b008aba2cb48cb8b062d8288cb2843b395773d964365"
   }
  }
 },
 "nbformat": 4,
 "nbformat_minor": 2
}
