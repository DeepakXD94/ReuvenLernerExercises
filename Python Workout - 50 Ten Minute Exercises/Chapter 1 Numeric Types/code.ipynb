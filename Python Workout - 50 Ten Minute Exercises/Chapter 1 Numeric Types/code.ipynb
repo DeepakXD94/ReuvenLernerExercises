{
 "cells": [
  {
   "cell_type": "markdown",
   "metadata": {},
   "source": [
    "# Exercise 1 ■ Number guessing game\n",
    "\n",
    "For this exercise:\n",
    "\n",
    "1.  Write a function (guessing_game) that takes no arguments.\n",
    "2.  When run, the function chooses a random integer between 0 and 100 (inclusive).\n",
    "3.  Then ask the user to guess what number has been chosen.\n",
    "4.  Each time the user enters a guess, the program indicates one of the following:\n",
    "        1.Too high\n",
    "        2.Too low\n",
    "        3.Just right\n",
    "\n",
    "5.  If the user guesses correctly, the program exits. Otherwise, the user is asked to try again.\n",
    "6.  The program only exits after the user guesses correctly.\n",
    "\n",
    "Assumption : An assumption is made that the user only feeds correct type of input."
   ]
  },
  {
   "cell_type": "markdown",
   "metadata": {},
   "source": [
    "##### My Method"
   ]
  },
  {
   "cell_type": "code",
   "execution_count": null,
   "metadata": {},
   "outputs": [],
   "source": [
    "import random\n",
    "\n",
    "answer = random.randint(10,30) # limiting the guess range between 10 and 30.\n",
    "name = input(\"Name of the contestant : \")\n",
    "print(f\"Hello, {name},\")\n",
    "print(\"Welcome to the game of \\\"Guess the number \\\".\")\n",
    "\n",
    "while True:\n",
    "    guess_num = int(input(\"Enter your guess.\"))\n",
    "    if guess_num == answer:\n",
    "        print(\"Congrats ! Your guess of\",answer,\"is correct.\")\n",
    "        break\n",
    "    elif guess_num < answer:\n",
    "        print(\"Your guess, (\",guess_num,\") is too low.\")\n",
    "    else:\n",
    "        print(\"Your guess(\",guess_num,\") is too high.\")"
   ]
  },
  {
   "cell_type": "markdown",
   "metadata": {},
   "source": [
    "### Program using function"
   ]
  },
  {
   "cell_type": "code",
   "execution_count": null,
   "metadata": {},
   "outputs": [],
   "source": [
    "import random\n",
    "\n",
    "def guess_game():\n",
    "    answer = random.randint(10,30)\n",
    "    name = input(\"Enter the name of the contestant :\")\n",
    "    print(f\"Hello {name}, Welcome to guessing game.\")\n",
    "    \n",
    "    while True:\n",
    "        guess_num = int(input(\"Enter your guess.\"))\n",
    "        if guess_num == answer:\n",
    "            print(\"Congrats ! Your guess of\",answer,\"is correct.\")\n",
    "            break\n",
    "        elif guess_num < answer:\n",
    "            print(\"Your guess, (\",guess_num,\") is too low.\")\n",
    "        else:\n",
    "            print(\"Your guess(\",guess_num,\") is too high.\")\n",
    "\n",
    "guess_game()"
   ]
  },
  {
   "cell_type": "markdown",
   "metadata": {},
   "source": [
    "### Beyond the Exercise."
   ]
  },
  {
   "cell_type": "markdown",
   "metadata": {},
   "source": [
    "1.  Modify this program, such that it gives the user only three chances to guess the correct number. If they try three times without success, the program tells them that they didn’t guess in time and then exits."
   ]
  },
  {
   "cell_type": "code",
   "execution_count": 11,
   "metadata": {},
   "outputs": [
    {
     "name": "stdout",
     "output_type": "stream",
     "text": [
      "Hello awfa, Welcome to guessing game.\n",
      "Your guess( 25 ) is too high.\n",
      "Your guess, ( 15 ) is too low.\n",
      "Your guess( 46 ) is too high.\n"
     ]
    }
   ],
   "source": [
    "import random\n",
    "\n",
    "def guess_game():\n",
    "    answer = random.randint(10,30)\n",
    "    name = input(\"Enter the name of the contestant :\")\n",
    "    print(f\"Hello {name}, Welcome to guessing game.\")\n",
    "    guess_count = 0\n",
    "    \n",
    "    while guess_count < 3:\n",
    "        guess_num = int(input(\"Enter your guess.\"))\n",
    "        guess_count += 1\n",
    "        if guess_num == answer:\n",
    "            print(\"Congrats ! Your guess of\",answer,\"is correct.\")\n",
    "            break\n",
    "        elif guess_num < answer:\n",
    "            print(\"Your guess, (\",guess_num,\") is too low.\")\n",
    "        else:\n",
    "            print(\"Your guess(\",guess_num,\") is too high.\")\n",
    "\n",
    "    if guess_count < 3:\n",
    "        pass\n",
    "    else:\n",
    "        print(\"You ran out of guesses. Better luck next time.\")\n",
    "\n",
    "guess_game()"
   ]
  }
 ],
 "metadata": {
  "kernelspec": {
   "display_name": "Python 3.10.5 ('Dataman')",
   "language": "python",
   "name": "python3"
  },
  "language_info": {
   "codemirror_mode": {
    "name": "ipython",
    "version": 3
   },
   "file_extension": ".py",
   "mimetype": "text/x-python",
   "name": "python",
   "nbconvert_exporter": "python",
   "pygments_lexer": "ipython3",
   "version": "3.10.5"
  },
  "orig_nbformat": 4,
  "vscode": {
   "interpreter": {
    "hash": "a36b3aecfc158218fe26b008aba2cb48cb8b062d8288cb2843b395773d964365"
   }
  }
 },
 "nbformat": 4,
 "nbformat_minor": 2
}
